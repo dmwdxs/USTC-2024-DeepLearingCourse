{
 "cells": [
  {
   "cell_type": "code",
   "execution_count": 1,
   "metadata": {},
   "outputs": [
    {
     "name": "stdout",
     "output_type": "stream",
     "text": [
      "Pytorch version:2.2.1+cu121\n",
      " torchvision version:0.17.1+cu121\n"
     ]
    }
   ],
   "source": [
    "import torch\n",
    "from torch import nn\n",
    "import torchvision\n",
    "\n",
    "print(f\"Pytorch version:{torch.__version__}\\n torchvision version:{torchvision.__version__}\")"
   ]
  },
  {
   "cell_type": "code",
   "execution_count": 2,
   "metadata": {},
   "outputs": [
    {
     "name": "stdout",
     "output_type": "stream",
     "text": [
      "训练集大小: 40000\n",
      "验证集大小: 10000\n",
      "测试集大小: 10000\n",
      "类别标签: ['airplane', 'automobile', 'bird', 'cat', 'deer', 'dog', 'frog', 'horse', 'ship', 'truck']\n"
     ]
    },
    {
     "data": {
      "text/plain": [
       "torch.Size([3, 32, 32])"
      ]
     },
     "execution_count": 2,
     "metadata": {},
     "output_type": "execute_result"
    }
   ],
   "source": [
    "import torch\n",
    "import torchvision\n",
    "import torchvision.transforms as transforms\n",
    "from torch.utils.data import random_split\n",
    "\n",
    "# 数据预处理\n",
    "transform = transforms.Compose([\n",
    "    transforms.ToTensor(), # 转换为张量\n",
    "    transforms.Normalize((0.5, 0.5, 0.5), (0.5, 0.5, 0.5)) # 归一化\n",
    "])\n",
    "\n",
    "# 加载 CIFAR-10 数据集\n",
    "dataset = torchvision.datasets.CIFAR10(root='./data', train=True, download=False, transform=transform)\n",
    "test_dataset = torchvision.datasets.CIFAR10(root='./data', train=False, download=False, transform=transform)\n",
    "\n",
    "train_size = int(0.8 * len(dataset))\n",
    "val_size = len(dataset) - train_size\n",
    "train_dataset, val_dataset = random_split(dataset, [train_size, val_size])\n",
    "\n",
    "# 打印数据集大小\n",
    "print('训练集大小:', len(train_dataset))\n",
    "print('验证集大小:', len(val_dataset))\n",
    "print('测试集大小:', len(test_dataset))\n",
    "\n",
    "# 打印类别标签\n",
    "classes = dataset.classes\n",
    "print('类别标签:', classes)\n",
    "\n",
    "#数据集查看\n",
    "image, label = train_dataset[0]\n",
    "\n",
    "# image, label #查看第一条训练数据\n",
    "image.shape  #查看数据的形状\n"
   ]
  },
  {
   "cell_type": "code",
   "execution_count": 3,
   "metadata": {},
   "outputs": [
    {
     "name": "stderr",
     "output_type": "stream",
     "text": [
      "Clipping input data to the valid range for imshow with RGB data ([0..1] for floats or [0..255] for integers).\n"
     ]
    },
    {
     "name": "stdout",
     "output_type": "stream",
     "text": [
      "Image shape: (3, 32, 32)\n"
     ]
    },
    {
     "data": {
      "image/png": "[encoded data removed]",
      "text/plain": [
       "<Figure size 640x480 with 1 Axes>"
      ]
     },
     "metadata": {},
     "output_type": "display_data"
    }
   ],
   "source": [
    "import matplotlib.pyplot as plt\n",
    "import numpy as np\n",
    "\n",
    "image, label = train_dataset[0]\n",
    "\n",
    "# 确保图像数据类型为 NumPy 数组\n",
    "image = np.array(image)\n",
    "\n",
    "# 显示图像\n",
    "print(f\"Image shape: {image.shape}\")\n",
    "plt.imshow(image.transpose(1, 2, 0))\n",
    "plt.title(label)\n",
    "plt.show()"
   ]
  },
  {
   "cell_type": "code",
   "execution_count": 4,
   "metadata": {},
   "outputs": [
    {
     "data": {
      "text/plain": [
       "'cuda'"
      ]
     },
     "execution_count": 4,
     "metadata": {},
     "output_type": "execute_result"
    }
   ],
   "source": [
    "device = \"cuda\" if torch.cuda.is_available() else \"cpu\"\n",
    "device"
   ]
  },
  {
   "cell_type": "code",
   "execution_count": 5,
   "metadata": {},
   "outputs": [],
   "source": [
    "# 定义训练函数\n",
    "def train_model(model, train_loader, val_loader, criterion, optimizer, num_epochs=10):\n",
    "    losses = []\n",
    "    model.to(device)\n",
    "    for epoch in range(num_epochs):\n",
    "        model.train()  # 设置模型为训练模式\n",
    "        running_loss = 0.0\n",
    "        for inputs, labels in train_loader:\n",
    "            inputs, labels = inputs.to(device), labels.to(device)\n",
    "            optimizer.zero_grad()  # 梯度清零\n",
    "            outputs = model(inputs)  # 前向传播\n",
    "            loss = criterion(outputs, labels)  # 计算损失\n",
    "            loss.backward()  # 反向传播\n",
    "            optimizer.step()  # 参数更新\n",
    "            running_loss += loss.item()\n",
    "            losses.append(loss.item())\n",
    "\n",
    "        # 打印每个epoch的训练损失\n",
    "        print(f\"Epoch {epoch+1}, Train Loss: {running_loss/len(train_loader)}\")\n",
    "\n",
    "        # 在验证集上评估模型\n",
    "        model.eval()  # 设置模型为评估模式\n",
    "        val_loss = 0.0\n",
    "        correct = 0\n",
    "        total = 0\n",
    "        with torch.no_grad():  # 不计算梯度\n",
    "            for inputs, labels in val_loader:\n",
    "                inputs, labels = inputs.to(device), labels.to(device)\n",
    "                outputs = model(inputs)\n",
    "                loss = criterion(outputs, labels)\n",
    "                val_loss += loss.item()\n",
    "                _, predicted = torch.max(outputs, 1)\n",
    "                total += labels.size(0)\n",
    "                correct += (predicted == labels).sum().item()\n",
    "\n",
    "        # 打印每个epoch的验证损失和准确率\n",
    "        print(f\"Epoch {epoch+1}, Validation Loss: {val_loss/len(val_loader)}, Validation Accuracy: {(correct/total)*100:.2f}%\")\n",
    "        count = 0\n",
    "        # if (correct/total) > 0.80:\n",
    "        #     count = count + 1\n",
    "        # if count >= 3:\n",
    "        #     break\n",
    "\n",
    "    return losses"
   ]
  },
  {
   "cell_type": "code",
   "execution_count": null,
   "metadata": {},
   "outputs": [],
   "source": [
    "def test_data(model, test_loader, criterion):\n",
    "    model.to(device)\n",
    "    model.eval()  # 设置模型为评估模式\n",
    "    test_loss = 0.0\n",
    "    correct = 0\n",
    "    total = 0\n",
    "    with torch.no_grad():  # 不计算梯度\n",
    "        for inputs, labels in test_loader:\n",
    "            inputs, labels = inputs.to(device), labels.to(device)\n",
    "            outputs = model(inputs)\n",
    "            loss = criterion(outputs, labels)\n",
    "            test_loss += loss.item()\n",
    "            _, predicted = torch.max(outputs, 1)\n",
    "            total += labels.size(0)\n",
    "            correct += (predicted == labels).sum().item()\n",
    "    print(f\"Test Loss: {test_loss/len(test_loader)}, Test Accuracy: {(correct/total)*100:.2f}%\")\n",
    "    "
   ]
  },
  {
   "cell_type": "code",
   "execution_count": 6,
   "metadata": {},
   "outputs": [
    {
     "name": "stdout",
     "output_type": "stream",
     "text": [
      "Dataloaders: (<torch.utils.data.dataloader.DataLoader object at 0x000001B60CC4B3D0>, <torch.utils.data.dataloader.DataLoader object at 0x000001B60CCAB5D0>)\n",
      "Length of 训练集: 625, batches of 64\n",
      "Length of 验证集: 157, batches of 64\n",
      "Length of 测试集: 157, batches of 64\n"
     ]
    }
   ],
   "source": [
    "from torch.utils.data import DataLoader, random_split\n",
    "\n",
    "# 设置批处理大小超参数\n",
    "BATCH_SIZE = 64\n",
    "\n",
    "# 定义数据加载器\n",
    "train_loader = DataLoader(train_dataset, batch_size=BATCH_SIZE, shuffle=True, num_workers=4)\n",
    "val_loader = DataLoader(val_dataset, batch_size=BATCH_SIZE, shuffle=False, num_workers=4)\n",
    "test_loader = DataLoader(test_dataset, batch_size=BATCH_SIZE, shuffle=False, num_workers=4)\n",
    "\n",
    "#打印结果\n",
    "print(f\"Dataloaders: {train_loader, test_loader}\")\n",
    "print(f\"Length of 训练集: {len(train_loader)}, batches of {BATCH_SIZE}\")\n",
    "print(f\"Length of 验证集: {len(val_loader)}, batches of {BATCH_SIZE}\")\n",
    "print(f\"Length of 测试集: {len(test_loader)}, batches of {BATCH_SIZE}\")\n"
   ]
  },
  {
   "cell_type": "markdown",
   "metadata": {},
   "source": [
    "## Resnet9"
   ]
  },
  {
   "cell_type": "code",
   "execution_count": 7,
   "metadata": {},
   "outputs": [
    {
     "name": "stdout",
     "output_type": "stream",
     "text": [
      "ResNet9(\n",
      "  (prep): Sequential(\n",
      "    (0): Conv2d(3, 64, kernel_size=(3, 3), stride=(1, 1), padding=(1, 1))\n",
      "    (1): BatchNorm2d(64, eps=1e-05, momentum=0.1, affine=True, track_running_stats=True)\n",
      "    (2): ReLU(inplace=True)\n",
      "  )\n",
      "  (layer1): Sequential(\n",
      "    (0): ResidualBlock(\n",
      "      (conv1): Conv2d(64, 128, kernel_size=(3, 3), stride=(1, 1), padding=(1, 1))\n",
      "      (bn1): BatchNorm2d(128, eps=1e-05, momentum=0.1, affine=True, track_running_stats=True)\n",
      "      (conv2): Conv2d(128, 128, kernel_size=(3, 3), stride=(1, 1), padding=(1, 1))\n",
      "      (bn2): BatchNorm2d(128, eps=1e-05, momentum=0.1, affine=True, track_running_stats=True)\n",
      "      (relu): ReLU(inplace=True)\n",
      "      (shortcut): Sequential(\n",
      "        (0): Conv2d(64, 128, kernel_size=(1, 1), stride=(1, 1))\n",
      "        (1): BatchNorm2d(128, eps=1e-05, momentum=0.1, affine=True, track_running_stats=True)\n",
      "      )\n",
      "    )\n",
      "  )\n",
      "  (layer2): Sequential(\n",
      "    (0): ResidualBlock(\n",
      "      (conv1): Conv2d(128, 256, kernel_size=(3, 3), stride=(2, 2), padding=(1, 1))\n",
      "      (bn1): BatchNorm2d(256, eps=1e-05, momentum=0.1, affine=True, track_running_stats=True)\n",
      "      (conv2): Conv2d(256, 256, kernel_size=(3, 3), stride=(1, 1), padding=(1, 1))\n",
      "      (bn2): BatchNorm2d(256, eps=1e-05, momentum=0.1, affine=True, track_running_stats=True)\n",
      "      (relu): ReLU(inplace=True)\n",
      "      (shortcut): Sequential(\n",
      "        (0): Conv2d(128, 256, kernel_size=(1, 1), stride=(2, 2))\n",
      "        (1): BatchNorm2d(256, eps=1e-05, momentum=0.1, affine=True, track_running_stats=True)\n",
      "      )\n",
      "    )\n",
      "  )\n",
      "  (layer3): Sequential(\n",
      "    (0): ResidualBlock(\n",
      "      (conv1): Conv2d(256, 512, kernel_size=(3, 3), stride=(2, 2), padding=(1, 1))\n",
      "      (bn1): BatchNorm2d(512, eps=1e-05, momentum=0.1, affine=True, track_running_stats=True)\n",
      "      (conv2): Conv2d(512, 512, kernel_size=(3, 3), stride=(1, 1), padding=(1, 1))\n",
      "      (bn2): BatchNorm2d(512, eps=1e-05, momentum=0.1, affine=True, track_running_stats=True)\n",
      "      (relu): ReLU(inplace=True)\n",
      "      (shortcut): Sequential(\n",
      "        (0): Conv2d(256, 512, kernel_size=(1, 1), stride=(2, 2))\n",
      "        (1): BatchNorm2d(512, eps=1e-05, momentum=0.1, affine=True, track_running_stats=True)\n",
      "      )\n",
      "    )\n",
      "  )\n",
      "  (classifier): Sequential(\n",
      "    (0): AdaptiveAvgPool2d(output_size=(1, 1))\n",
      "    (1): Conv2d(512, 10, kernel_size=(1, 1), stride=(1, 1))\n",
      "  )\n",
      ")\n"
     ]
    }
   ],
   "source": [
    "import torch\n",
    "import torch.nn as nn\n",
    "import torch.nn.functional as F\n",
    "\n",
    "class ResidualBlock(nn.Module):\n",
    "    def __init__(self, in_channels, out_channels, stride=1):\n",
    "        super(ResidualBlock, self).__init__()\n",
    "        self.conv1 = nn.Conv2d(in_channels, out_channels, kernel_size=3, padding=1, stride=stride)\n",
    "        self.bn1 = nn.BatchNorm2d(out_channels)\n",
    "        self.conv2 = nn.Conv2d(out_channels, out_channels, kernel_size=3, padding=1)\n",
    "        self.bn2 = nn.BatchNorm2d(out_channels)\n",
    "        self.relu = nn.ReLU(inplace=True)\n",
    "        self.stride = stride\n",
    "\n",
    "        # For shortcut connection\n",
    "        if stride != 1 or in_channels != out_channels:\n",
    "            self.shortcut = nn.Sequential(\n",
    "                nn.Conv2d(in_channels, out_channels, kernel_size=1, stride=stride),\n",
    "                nn.BatchNorm2d(out_channels)\n",
    "            )\n",
    "        else:\n",
    "            self.shortcut = nn.Sequential()\n",
    "\n",
    "    def forward(self, x):\n",
    "        residual = x\n",
    "\n",
    "        out = self.conv1(x)\n",
    "        out = self.bn1(out)\n",
    "        out = self.relu(out)\n",
    "\n",
    "        out = self.conv2(out)\n",
    "        out = self.bn2(out)\n",
    "\n",
    "        # Shortcut connection\n",
    "        residual = self.shortcut(residual)\n",
    "\n",
    "        out += residual\n",
    "        out = self.relu(out)\n",
    "\n",
    "        return out\n",
    "\n",
    "class ResNet9(nn.Module):\n",
    "    def __init__(self, num_classes=10):\n",
    "        super(ResNet9, self).__init__()\n",
    "        self.prep = nn.Sequential(\n",
    "            nn.Conv2d(3, 64, kernel_size=3, padding=1),\n",
    "            nn.BatchNorm2d(64),\n",
    "            nn.ReLU(inplace=True)\n",
    "        )\n",
    "        self.layer1 = self._make_layer(64, 128, stride=1)\n",
    "        self.layer2 = self._make_layer(128, 256, stride=2)\n",
    "        self.layer3 = self._make_layer(256, 512, stride=2)\n",
    "        self.classifier = nn.Sequential(\n",
    "            nn.AdaptiveAvgPool2d((1, 1)),\n",
    "            nn.Conv2d(512, num_classes, kernel_size=1)\n",
    "        )\n",
    "\n",
    "    def _make_layer(self, in_channels, out_channels, stride):\n",
    "        layers = []\n",
    "        layers.append(ResidualBlock(in_channels, out_channels, stride))\n",
    "        return nn.Sequential(*layers)\n",
    "\n",
    "    def forward(self, x):\n",
    "        out = self.prep(x)\n",
    "        out = self.layer1(out)\n",
    "        out = self.layer2(out)\n",
    "        out = self.layer3(out)\n",
    "        out = self.classifier(out)\n",
    "        out = out.view(out.size(0), -1)\n",
    "        return F.log_softmax(out, dim=1)\n",
    "\n",
    "# 创建 ResNet-9 模型实例\n",
    "resnet9 = ResNet9()\n",
    "# 打印模型结构\n",
    "print(resnet9)\n"
   ]
  },
  {
   "cell_type": "code",
   "execution_count": 9,
   "metadata": {},
   "outputs": [
    {
     "name": "stdout",
     "output_type": "stream",
     "text": [
      "Epoch 1, Train Loss: 1.3068763389587403\n",
      "Epoch 1, Validation Loss: 1.2370467334036614, Validation Accuracy: 54.56%\n",
      "Epoch 2, Train Loss: 0.9089806944847106\n",
      "Epoch 2, Validation Loss: 0.8895441980878259, Validation Accuracy: 68.95%\n",
      "Epoch 3, Train Loss: 0.7282590817451478\n",
      "Epoch 3, Validation Loss: 0.7515919016804665, Validation Accuracy: 73.65%\n",
      "Epoch 4, Train Loss: 0.6010240538597107\n",
      "Epoch 4, Validation Loss: 0.7806165829585616, Validation Accuracy: 73.27%\n",
      "Epoch 5, Train Loss: 0.5009850335836411\n",
      "Epoch 5, Validation Loss: 0.7808399010615744, Validation Accuracy: 74.53%\n",
      "Epoch 6, Train Loss: 0.40948437273502347\n",
      "Epoch 6, Validation Loss: 0.8692299919143603, Validation Accuracy: 72.05%\n",
      "Epoch 7, Train Loss: 0.33366934468746184\n",
      "Epoch 7, Validation Loss: 0.710957637258396, Validation Accuracy: 76.13%\n",
      "Epoch 8, Train Loss: 0.25679034032821657\n",
      "Epoch 8, Validation Loss: 0.7796242531317814, Validation Accuracy: 76.36%\n",
      "Epoch 9, Train Loss: 0.19029173107743264\n",
      "Epoch 9, Validation Loss: 0.7914146923335494, Validation Accuracy: 76.08%\n",
      "Epoch 10, Train Loss: 0.1374682373970747\n",
      "Epoch 10, Validation Loss: 0.6698088642138584, Validation Accuracy: 80.34%\n",
      "Epoch 11, Train Loss: 0.10581410587131977\n",
      "Epoch 11, Validation Loss: 1.0107709626862957, Validation Accuracy: 75.36%\n",
      "Epoch 12, Train Loss: 0.06711454674899578\n",
      "Epoch 12, Validation Loss: 0.8357357602020737, Validation Accuracy: 78.85%\n",
      "Epoch 13, Train Loss: 0.051679762826114896\n",
      "Epoch 13, Validation Loss: 0.9838749456937146, Validation Accuracy: 77.62%\n",
      "Epoch 14, Train Loss: 0.03545425524264574\n",
      "Epoch 14, Validation Loss: 0.9877393608260306, Validation Accuracy: 78.10%\n",
      "Epoch 15, Train Loss: 0.030555890208855272\n",
      "Epoch 15, Validation Loss: 0.8777367700437072, Validation Accuracy: 79.87%\n",
      "Epoch 16, Train Loss: 0.021013114545866848\n",
      "Epoch 16, Validation Loss: 0.7566275706716404, Validation Accuracy: 82.10%\n",
      "Epoch 17, Train Loss: 0.013170360280945898\n",
      "Epoch 17, Validation Loss: 0.7160041309466028, Validation Accuracy: 82.75%\n",
      "Epoch 18, Train Loss: 0.00665324950478971\n",
      "Epoch 18, Validation Loss: 0.7986487865827645, Validation Accuracy: 81.97%\n",
      "Epoch 19, Train Loss: 0.002225808255560696\n",
      "Epoch 19, Validation Loss: 0.6815443069312224, Validation Accuracy: 83.95%\n",
      "Epoch 20, Train Loss: 0.001064227312989533\n",
      "Epoch 20, Validation Loss: 0.6916427729046268, Validation Accuracy: 84.36%\n",
      "Epoch 21, Train Loss: 0.0007465878399088979\n",
      "Epoch 21, Validation Loss: 0.695378234906561, Validation Accuracy: 84.46%\n",
      "Epoch 22, Train Loss: 0.0006098105216398835\n",
      "Epoch 22, Validation Loss: 0.6997420698594136, Validation Accuracy: 84.50%\n",
      "Epoch 23, Train Loss: 0.0005199062522035093\n",
      "Epoch 23, Validation Loss: 0.7011791799858118, Validation Accuracy: 84.35%\n",
      "Epoch 24, Train Loss: 0.0004932467547478154\n",
      "Epoch 24, Validation Loss: 0.7052232778755723, Validation Accuracy: 84.42%\n",
      "Epoch 25, Train Loss: 0.00044262157297926026\n",
      "Epoch 25, Validation Loss: 0.7103621431976367, Validation Accuracy: 84.53%\n",
      "Epoch 26, Train Loss: 0.00040889405795605855\n",
      "Epoch 26, Validation Loss: 0.7124323348520668, Validation Accuracy: 84.38%\n",
      "Epoch 27, Train Loss: 0.0003630910868989304\n",
      "Epoch 27, Validation Loss: 0.7203517464125991, Validation Accuracy: 84.31%\n",
      "Epoch 28, Train Loss: 0.0003416993825114332\n",
      "Epoch 28, Validation Loss: 0.7225190163797633, Validation Accuracy: 84.57%\n",
      "Epoch 29, Train Loss: 0.00033122666240669786\n",
      "Epoch 29, Validation Loss: 0.7227939553321547, Validation Accuracy: 84.23%\n",
      "Epoch 30, Train Loss: 0.00029309629205381496\n",
      "Epoch 30, Validation Loss: 0.7195637601006563, Validation Accuracy: 84.49%\n"
     ]
    }
   ],
   "source": [
    "import torch.optim as optim\n",
    "\n",
    "# 定义损失函数和优化器\n",
    "criterion = nn.CrossEntropyLoss()   \n",
    "optimizer = optim.SGD(resnet9.parameters(), lr=0.01, momentum=0.9, nesterov=True)\n",
    "# optimizer = optim.Adam(model_Res.parameters(), lr=0.001)\n",
    "\n",
    "val_losses = train_model(resnet9, train_loader, val_loader, criterion, optimizer, num_epochs=20)"
   ]
  },
  {
   "cell_type": "code",
   "execution_count": 10,
   "metadata": {},
   "outputs": [
    {
     "name": "stdout",
     "output_type": "stream",
     "text": [
      "Test Loss: 0.7202756092616707, Test Accuracy: 84.11%\n"
     ]
    }
   ],
   "source": [
    "test_data(model=resnet9, test_loader=test_loader, criterion=criterion)"
   ]
  },
  {
   "cell_type": "markdown",
   "metadata": {},
   "source": [
    "## Resnet"
   ]
  },
  {
   "cell_type": "code",
   "execution_count": 41,
   "metadata": {},
   "outputs": [],
   "source": [
    "class ResidualBlock(nn.Module):\n",
    "    def __init__(self, in_channels, out_channels, stride=1, downsample=None):\n",
    "        super(ResidualBlock, self).__init__()\n",
    "        self.conv1 = nn.Conv2d(in_channels, out_channels, kernel_size=5, stride=stride, padding=2, bias=False)\n",
    "        self.bn1 = nn.BatchNorm2d(out_channels)\n",
    "        self.relu = nn.ReLU(inplace=True)\n",
    "        self.conv2 = nn.Conv2d(out_channels, out_channels, kernel_size=5, stride=1, padding=2, bias=False)\n",
    "        self.bn2 = nn.BatchNorm2d(out_channels)\n",
    "        self.downsample = downsample\n",
    "\n",
    "    def forward(self, x):\n",
    "        # 保存输入 x 作为恒等映射（identity），用于在残差连接中与输出相加\n",
    "        identity = x\n",
    "\n",
    "        # 第一个卷积层的前向传播\n",
    "        out = self.conv1(x)\n",
    "        # 对第一个卷积层的输出进行批量归一化\n",
    "        out = self.bn1(out)\n",
    "        # 对批量归一化后的结果应用 ReLU 激活函数\n",
    "        out = self.relu(out)\n",
    "\n",
    "        # 第二个卷积层的前向传播\n",
    "        out = self.conv2(out)\n",
    "        # 对第二个卷积层的输出进行批量归一化\n",
    "        out = self.bn2(out)\n",
    "\n",
    "        # 如果存在 downsample（残差连接中的下采样操作），则对输入 x 进行下采样\n",
    "        if self.downsample is not None:\n",
    "            identity = self.downsample(x)\n",
    "\n",
    "        # 将残差连接的结果与输入相加\n",
    "        out += identity\n",
    "        # 对相加后的结果应用 ReLU 激活函数\n",
    "        out = self.relu(out)\n",
    "\n",
    "        # 返回最终的输出\n",
    "        return out\n",
    "\n",
    "class CNN_ResNet(nn.Module):\n",
    "    def __init__(self, num_classes=10):\n",
    "        # 调用父类（nn.Module）的构造函数，初始化模型的基本结构\n",
    "        super(CNN_ResNet, self).__init__()\n",
    "\n",
    "        # 第一个卷积块，包括一个卷积层、ReLU 激活函数和最大池化层\n",
    "        self.conv1 = nn.Sequential(\n",
    "            nn.Conv2d(3, 16, kernel_size=5, stride=1, padding=2),  # 输入通道为 3，输出通道为 16，卷积核大小为 5x5，填充为 2\n",
    "            nn.ReLU(),  # ReLU 激活函数\n",
    "            nn.MaxPool2d(kernel_size=2)  # 最大池化层，池化核大小为 2x2\n",
    "        )\n",
    "\n",
    "        # 使用 make_layer 方法构建第二、第三和第四个残差块\n",
    "        self.conv2 = self.make_layer(16, 32, stride=1)  # 构建残差块，输入通道为 16，输出通道为 32，步长为 1\n",
    "        self.conv3 = self.make_layer(32, 64, stride=1)  # 构建残差块，输入通道为 32，输出通道为 64，步长为 1\n",
    "        self.conv4 = self.make_layer(64, 128, stride=1)  # 构建残差块，输入通道为 64，输出通道为 128，步长为 1\n",
    "\n",
    "        # 全局平均池化层，将特征图大小调整为 (1, 1)\n",
    "        self.avgpool = nn.AdaptiveAvgPool2d((1, 1))\n",
    "\n",
    "        # 全连接层，将最后一层特征图压缩为长度为 num_classes 的向量，用于分类\n",
    "        self.fc = nn.Linear(128, num_classes)  # 输入大小为 128，输出大小为分类类别数\n",
    "\n",
    "    def make_layer(self, in_channels, out_channels, stride):\n",
    "        # 初始化 downsample 为 None，用于存储下采样操作\n",
    "        downsample = None\n",
    "        # 如果步长不为 1 或者输入通道数不等于输出通道数，则需要进行下采样操作\n",
    "        if stride != 1 or in_channels != out_channels:\n",
    "            # 构建下采样操作，包括一个卷积层和一个批量归一化层\n",
    "            downsample = nn.Sequential(\n",
    "                nn.Conv2d(in_channels, out_channels, kernel_size=1, stride=stride, bias=False),\n",
    "                nn.BatchNorm2d(out_channels)\n",
    "            )\n",
    "        # 初始化残差块层列表\n",
    "        layers = []\n",
    "        # 将构建好的残差块添加到列表中\n",
    "        layers.append(ResidualBlock(in_channels, out_channels, stride, downsample))\n",
    "        # 将列表转换为序列，并返回\n",
    "        return nn.Sequential(*layers)\n",
    "\n",
    "    def forward(self, x):\n",
    "        x = self.conv1(x)\n",
    "        x = self.conv2(x)\n",
    "        x = self.conv3(x)\n",
    "        x = self.conv4(x)\n",
    "        x = self.avgpool(x)\n",
    "        x = torch.flatten(x, 1)\n",
    "        x = self.fc(x)\n",
    "        return x"
   ]
  },
  {
   "cell_type": "code",
   "execution_count": 51,
   "metadata": {},
   "outputs": [
    {
     "name": "stdout",
     "output_type": "stream",
     "text": [
      "Epoch 1, Train Loss: 1.3340047006607056\n",
      "Epoch 1, Validation Loss: 1.1853217399044402, Validation Accuracy: 57.19%\n",
      "Epoch 2, Train Loss: 0.9775206230163574\n",
      "Epoch 2, Validation Loss: 1.067211603283123, Validation Accuracy: 62.39%\n",
      "Epoch 3, Train Loss: 0.8248997010231018\n",
      "Epoch 3, Validation Loss: 0.933307798045456, Validation Accuracy: 67.50%\n",
      "Epoch 4, Train Loss: 0.7204245248317719\n",
      "Epoch 4, Validation Loss: 0.8753282816926385, Validation Accuracy: 69.66%\n",
      "Epoch 5, Train Loss: 0.6401915470600128\n",
      "Epoch 5, Validation Loss: 0.7141675546670415, Validation Accuracy: 75.36%\n",
      "Epoch 6, Train Loss: 0.5754885333776474\n",
      "Epoch 6, Validation Loss: 0.6828022587830853, Validation Accuracy: 76.99%\n",
      "Epoch 7, Train Loss: 0.5265835210323334\n",
      "Epoch 7, Validation Loss: 0.6559085435928054, Validation Accuracy: 77.52%\n",
      "Epoch 8, Train Loss: 0.4808338764667511\n",
      "Epoch 8, Validation Loss: 0.6699856980970711, Validation Accuracy: 77.75%\n",
      "Epoch 9, Train Loss: 0.43991200037002565\n",
      "Epoch 9, Validation Loss: 0.7366440074079356, Validation Accuracy: 76.45%\n",
      "Epoch 10, Train Loss: 0.40304398522377016\n",
      "Epoch 10, Validation Loss: 0.695243986928539, Validation Accuracy: 77.16%\n",
      "Epoch 11, Train Loss: 0.36662458283901217\n",
      "Epoch 11, Validation Loss: 0.6084041162660927, Validation Accuracy: 79.71%\n",
      "Epoch 12, Train Loss: 0.33192430500984194\n",
      "Epoch 12, Validation Loss: 0.7059583282394774, Validation Accuracy: 77.70%\n",
      "Epoch 13, Train Loss: 0.29972464834451673\n",
      "Epoch 13, Validation Loss: 0.7073742685614118, Validation Accuracy: 78.11%\n",
      "Epoch 14, Train Loss: 0.2765162125587463\n",
      "Epoch 14, Validation Loss: 0.651872867042092, Validation Accuracy: 79.39%\n",
      "Epoch 15, Train Loss: 0.2460176785826683\n",
      "Epoch 15, Validation Loss: 0.6335396214275603, Validation Accuracy: 80.68%\n",
      "Epoch 16, Train Loss: 0.21863712840676308\n",
      "Epoch 16, Validation Loss: 0.6576618370926304, Validation Accuracy: 80.48%\n",
      "Epoch 17, Train Loss: 0.19307109888792037\n",
      "Epoch 17, Validation Loss: 0.701465008934592, Validation Accuracy: 79.04%\n",
      "Epoch 18, Train Loss: 0.17490972203910352\n",
      "Epoch 18, Validation Loss: 0.7827778924612483, Validation Accuracy: 78.13%\n",
      "Epoch 19, Train Loss: 0.15917214846014976\n",
      "Epoch 19, Validation Loss: 0.757509429363688, Validation Accuracy: 79.61%\n",
      "Epoch 20, Train Loss: 0.13791939297914504\n",
      "Epoch 20, Validation Loss: 0.795573906534037, Validation Accuracy: 79.02%\n",
      "Epoch 21, Train Loss: 0.11377434160113335\n",
      "Epoch 21, Validation Loss: 0.7620976506524785, Validation Accuracy: 79.92%\n",
      "Epoch 22, Train Loss: 0.09895825389772654\n",
      "Epoch 22, Validation Loss: 0.8337035464822866, Validation Accuracy: 79.46%\n",
      "Epoch 23, Train Loss: 0.09656091436445713\n",
      "Epoch 23, Validation Loss: 0.746236067289, Validation Accuracy: 81.00%\n",
      "Epoch 24, Train Loss: 0.0831144967764616\n",
      "Epoch 24, Validation Loss: 0.8528480235558407, Validation Accuracy: 79.12%\n",
      "Epoch 25, Train Loss: 0.07723259197622538\n",
      "Epoch 25, Validation Loss: 0.8757195814399962, Validation Accuracy: 79.90%\n",
      "Epoch 26, Train Loss: 0.06988868616819381\n",
      "Epoch 26, Validation Loss: 0.8527830252601842, Validation Accuracy: 79.72%\n",
      "Epoch 27, Train Loss: 0.07011916716396809\n",
      "Epoch 27, Validation Loss: 0.9672025821770832, Validation Accuracy: 78.37%\n",
      "Epoch 28, Train Loss: 0.05931764477714896\n",
      "Epoch 28, Validation Loss: 0.9315372289745671, Validation Accuracy: 79.92%\n",
      "Epoch 29, Train Loss: 0.05427370472103357\n",
      "Epoch 29, Validation Loss: 0.8457783016429585, Validation Accuracy: 81.18%\n",
      "Epoch 30, Train Loss: 0.03932066934555769\n",
      "Epoch 30, Validation Loss: 0.8341302047869202, Validation Accuracy: 81.53%\n"
     ]
    }
   ],
   "source": [
    "import torch.optim as optim\n",
    "\n",
    "model_Res = CNN_ResNet()\n",
    "# 定义损失函数和优化器\n",
    "criterion = nn.CrossEntropyLoss()   \n",
    "optimizer = optim.SGD(model_Res.parameters(), lr=0.01, momentum=0.9, nesterov=True)\n",
    "# optimizer = optim.Adam(model_Res.parameters(), lr=0.001)\n",
    "\n",
    "val_losses = train_model(model_Res, train_loader, val_loader, criterion, optimizer, num_epochs=30)"
   ]
  },
  {
   "cell_type": "code",
   "execution_count": 53,
   "metadata": {},
   "outputs": [
    {
     "name": "stdout",
     "output_type": "stream",
     "text": [
      "Test Loss: 0.8757081992307286, Test Accuracy: 80.93%\n"
     ]
    }
   ],
   "source": [
    "test_data(model=model_Res, test_loader=test_loader, criterion=criterion)"
   ]
  },
  {
   "cell_type": "markdown",
   "metadata": {},
   "source": [
    "## CNN"
   ]
  },
  {
   "cell_type": "code",
   "execution_count": null,
   "metadata": {},
   "outputs": [],
   "source": [
    "import torch.nn.functional as F\n",
    "\n",
    "'''开始建立CNN网络'''\n",
    "class CNN(nn.Module):\n",
    "    def __init__(self):\n",
    "        super(CNN,self).__init__()\n",
    "        '''\n",
    "        一般来说，卷积网络包括以下内容：\n",
    "        1.卷积层\n",
    "        2.神经网络\n",
    "        3.池化层\n",
    "        '''\n",
    "        self.conv1=nn.Sequential(\n",
    "            nn.Conv2d(              #--> (3, 32, 32)\n",
    "                in_channels=3,      #传入RGB为三层\n",
    "                out_channels=16,    #输出的图片是几层\n",
    "                kernel_size=5,      #代表扫描的区域点为3*3\n",
    "                stride=1,           #就是每隔多少步跳一下\n",
    "                padding=2,          #边框补全，其计算公式=（kernel_size-1）/2=(5-1)/2=2\n",
    "            ),    # 2d代表二维卷积           --> (16, 32, 32)\n",
    "            nn.ReLU(),              #非线性激活层\n",
    "            nn.MaxPool2d(kernel_size=2),    #设定这里的扫描区域为2*2，且取出该2*2中的最大值          --> (16, 16, 16)\n",
    "        )\n",
    " \n",
    "        self.conv2=nn.Sequential(\n",
    "            nn.Conv2d(              #       --> (16, 16, 16)\n",
    "                in_channels=16,     #这里的输入是上层的输出为16层\n",
    "                out_channels=32,    #在这里我们需要将其输出为32层\n",
    "                kernel_size=5,      #代表扫描的区域点为5*5\n",
    "                stride=1,           #就是每隔多少步跳一下\n",
    "                padding=2,          #边框补全，其计算公式=（kernel_size-1）/2=(5-1)/2=\n",
    "            ),                      #   --> (32, 16, 16)\n",
    "            nn.ReLU(),\n",
    "            # nn.MaxPool2d(kernel_size=2),    #设定这里的扫描区域为2*2，且取出该2*2中的最大值     --> (32, 8, 8)，这里是三维数据\n",
    "        )\n",
    "\n",
    "        self.conv3=nn.Sequential(\n",
    "            nn.Conv2d(              #       --> (32, 16, 16)\n",
    "                in_channels=32,     #这里的输入是上层的输出为32层\n",
    "                out_channels=64,    #在这里我们需要将其输出为64层\n",
    "                kernel_size=3,      #代表扫描的区域点为3*3\n",
    "                stride=1,           #就是每隔多少步跳一下\n",
    "                padding=1,          #边框补全，其计算公式=（kernel_size-1）/2=(3-1)/2=\n",
    "            ),                      #   --> (64, 16, 16)\n",
    "            nn.ReLU(),\n",
    "            # nn.MaxPool2d(kernel_size=2),    #设定这里的扫描区域为2*2，且取出该2*2中的最大值     --> (64, 4, 4)，这里是三维数据\n",
    "        )\n",
    "\n",
    "        self.conv4=nn.Sequential(\n",
    "            nn.Conv2d(              #       --> (64, 16, 16)\n",
    "                in_channels=64,     #这里的输入是上层的输出为64层\n",
    "                out_channels=128,    #在这里我们需要将其输出为128层\n",
    "                kernel_size=5,      #代表扫描的区域点为3*3\n",
    "                stride=1,           #就是每隔多少步跳一下\n",
    "                padding=2,          #边框补全，其计算公式=（kernel_size-1）/2=(3-1)/2=\n",
    "            ),                      #   --> (128, 16, 16)\n",
    "            nn.ReLU(),\n",
    "            nn.MaxPool2d(kernel_size=2),    #设定这里的扫描区域为2*2，且取出该2*2中的最大值     --> (128, 16, 16)，这里是三维数据\n",
    "        )\n",
    " \n",
    "        self.out=nn.Linear(128*8*8,10)       #注意一下这里的数据是二维的数据\n",
    " \n",
    "    def forward(self,x):\n",
    "        x=self.conv1(x)\n",
    "        x=self.conv2(x)     #（batch,32, 8, 8）\n",
    "        x=self.conv3(x)\n",
    "        x=self.conv4(x)\n",
    "        #然后接下来进行一下扩展展平的操作，将三维数据转为二维的数据\n",
    "        x=x.view(x.size(0),-1)    \n",
    "        x=self.out(x)\n",
    "        return x\n",
    "\n"
   ]
  },
  {
   "cell_type": "code",
   "execution_count": 23,
   "metadata": {},
   "outputs": [
    {
     "name": "stdout",
     "output_type": "stream",
     "text": [
      "Epoch 1, Train Loss: 1.4688179598808289\n",
      "Epoch 1, Validation Loss: 1.1913261516079021, Validation Accuracy: 57.57%\n",
      "Epoch 2, Train Loss: 1.0878320751190185\n",
      "Epoch 2, Validation Loss: 1.0254249754984668, Validation Accuracy: 63.75%\n",
      "Epoch 3, Train Loss: 0.893797371006012\n",
      "Epoch 3, Validation Loss: 0.9689578797407211, Validation Accuracy: 67.02%\n",
      "Epoch 4, Train Loss: 0.7628002008914948\n",
      "Epoch 4, Validation Loss: 0.8564041983929409, Validation Accuracy: 70.35%\n",
      "Epoch 5, Train Loss: 0.6545688506603241\n",
      "Epoch 5, Validation Loss: 0.8229674750072941, Validation Accuracy: 71.97%\n",
      "Epoch 6, Train Loss: 0.5655449935913086\n",
      "Epoch 6, Validation Loss: 0.8476263821884326, Validation Accuracy: 72.51%\n",
      "Epoch 7, Train Loss: 0.48239095149040223\n",
      "Epoch 7, Validation Loss: 0.8816279083680195, Validation Accuracy: 72.61%\n",
      "Epoch 8, Train Loss: 0.3958609107851982\n",
      "Epoch 8, Validation Loss: 0.9618259679739642, Validation Accuracy: 71.51%\n",
      "Epoch 9, Train Loss: 0.33020731328725816\n",
      "Epoch 9, Validation Loss: 1.0576021101824038, Validation Accuracy: 70.75%\n",
      "Epoch 10, Train Loss: 0.2725963952302933\n",
      "Epoch 10, Validation Loss: 1.0803414805299918, Validation Accuracy: 71.85%\n"
     ]
    }
   ],
   "source": [
    "import torch.optim as optim\n",
    "\n",
    "# 创建模型实例                                                                                                                                      \n",
    "model = CNN()\n",
    "\n",
    "# 定义损失函数和优化器\n",
    "criterion = nn.CrossEntropyLoss()   \n",
    "optimizer = optim.SGD(lr=0.01, momentum=0.9, nesterov=True)\n",
    "\n",
    "# 训练模型\n",
    "val_losses = train_model(model, train_loader, val_loader, criterion, optimizer, num_epochs=30)"
   ]
  },
  {
   "cell_type": "code",
   "execution_count": 24,
   "metadata": {},
   "outputs": [
    {
     "name": "stdout",
     "output_type": "stream",
     "text": [
      "Test Loss: 1.1159870229708921, Test Accuracy: 70.29%\n"
     ]
    }
   ],
   "source": [
    "# 测试集\n",
    "# 在验证集上评估模型\n",
    "model.eval()  # 设置模型为评估模式\n",
    "test_loss = 0.0\n",
    "correct = 0\n",
    "total = 0\n",
    "with torch.no_grad():  # 不计算梯度\n",
    "    for inputs, labels in test_loader:\n",
    "        outputs = model(inputs)\n",
    "        loss = criterion(outputs, labels)\n",
    "        test_loss += loss.item()\n",
    "        _, predicted = torch.max(outputs, 1)\n",
    "        total += labels.size(0)\n",
    "        correct += (predicted == labels).sum().item()\n",
    "print(f\"Test Loss: {test_loss/len(test_loader)}, Test Accuracy: {(correct/total)*100:.2f}%\")"
   ]
  },
  {
   "cell_type": "code",
   "execution_count": null,
   "metadata": {},
   "outputs": [],
   "source": []
  }
 ],
 "metadata": {
  "kernelspec": {
   "display_name": "Python 3",
   "language": "python",
   "name": "python3"
  },
  "language_info": {
   "codemirror_mode": {
    "name": "ipython",
    "version": 3
   },
   "file_extension": ".py",
   "mimetype": "text/x-python",
   "name": "python",
   "nbconvert_exporter": "python",
   "pygments_lexer": "ipython3",
   "version": "3.11.4"
  }
 },
 "nbformat": 4,
 "nbformat_minor": 2
}
