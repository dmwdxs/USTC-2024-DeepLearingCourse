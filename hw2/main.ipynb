{
 "cells": [
  {
   "cell_type": "code",
   "execution_count": 2,
   "metadata": {},
   "outputs": [
    {
     "name": "stdout",
     "output_type": "stream",
     "text": [
      "Pytorch version:2.2.1+cu121\n",
      " torchvision version:0.17.1+cu121\n"
     ]
    }
   ],
   "source": [
    "import torch\n",
    "from torch import nn\n",
    "import torchvision\n",
    "\n",
    "print(f\"Pytorch version:{torch.__version__}\\n torchvision version:{torchvision.__version__}\")"
   ]
  },
  {
   "cell_type": "code",
   "execution_count": 3,
   "metadata": {},
   "outputs": [
    {
     "name": "stdout",
     "output_type": "stream",
     "text": [
      "训练集大小: 40000\n",
      "验证集大小: 10000\n",
      "测试集大小: 10000\n",
      "类别标签: ['airplane', 'automobile', 'bird', 'cat', 'deer', 'dog', 'frog', 'horse', 'ship', 'truck']\n"
     ]
    },
    {
     "data": {
      "text/plain": [
       "torch.Size([3, 32, 32])"
      ]
     },
     "execution_count": 3,
     "metadata": {},
     "output_type": "execute_result"
    }
   ],
   "source": [
    "import torch\n",
    "import torchvision\n",
    "import torchvision.transforms as transforms\n",
    "from torch.utils.data import random_split\n",
    "\n",
    "# 数据预处理\n",
    "transform = transforms.Compose([\n",
    "    transforms.ToTensor(), # 转换为张量\n",
    "    transforms.Normalize((0.5, 0.5, 0.5), (0.5, 0.5, 0.5)) # 归一化\n",
    "])\n",
    "\n",
    "# 加载 CIFAR-10 数据集\n",
    "dataset = torchvision.datasets.CIFAR10(root='./data', train=True, download=False, transform=transform)\n",
    "test_dataset = torchvision.datasets.CIFAR10(root='./data', train=False, download=False, transform=transform)\n",
    "\n",
    "train_size = int(0.8 * len(dataset))\n",
    "val_size = len(dataset) - train_size\n",
    "train_dataset, val_dataset = random_split(dataset, [train_size, val_size])\n",
    "\n",
    "# 打印数据集大小\n",
    "print('训练集大小:', len(train_dataset))\n",
    "print('验证集大小:', len(val_dataset))\n",
    "print('测试集大小:', len(test_dataset))\n",
    "\n",
    "# 打印类别标签\n",
    "classes = dataset.classes\n",
    "print('类别标签:', classes)\n",
    "\n",
    "#数据集查看\n",
    "image, label = train_dataset[0]\n",
    "\n",
    "# image, label #查看第一条训练数据\n",
    "image.shape  #查看数据的形状\n"
   ]
  },
  {
   "cell_type": "code",
   "execution_count": 4,
   "metadata": {},
   "outputs": [
    {
     "name": "stderr",
     "output_type": "stream",
     "text": [
      "Clipping input data to the valid range for imshow with RGB data ([0..1] for floats or [0..255] for integers).\n"
     ]
    },
    {
     "name": "stdout",
     "output_type": "stream",
     "text": [
      "Image shape: (3, 32, 32)\n"
     ]
    },
    {
     "data": {
      "image/png": "[encoded data removed]",
      "text/plain": [
       "<Figure size 640x480 with 1 Axes>"
      ]
     },
     "metadata": {},
     "output_type": "display_data"
    }
   ],
   "source": [
    "import matplotlib.pyplot as plt\n",
    "import numpy as np\n",
    "\n",
    "image, label = train_dataset[0]\n",
    "\n",
    "# 确保图像数据类型为 NumPy 数组\n",
    "image = np.array(image)\n",
    "\n",
    "# 显示图像\n",
    "print(f\"Image shape: {image.shape}\")\n",
    "plt.imshow(image.transpose(1, 2, 0))\n",
    "plt.title(label)\n",
    "plt.show()"
   ]
  },
  {
   "cell_type": "code",
   "execution_count": 6,
   "metadata": {},
   "outputs": [
    {
     "data": {
      "text/plain": [
       "'cuda'"
      ]
     },
     "execution_count": 6,
     "metadata": {},
     "output_type": "execute_result"
    }
   ],
   "source": [
    "device = \"cuda\" if torch.cuda.is_available() else \"cpu\"\n",
    "device"
   ]
  },
  {
   "cell_type": "code",
   "execution_count": 32,
   "metadata": {},
   "outputs": [],
   "source": [
    "\n",
    "# 定义模型结构\n",
    "class CNN(nn.Module):\n",
    "    def __init__(self):\n",
    "        super(CNN, self).__init__()\n",
    "        self.conv1 = nn.Sequential(\n",
    "            nn.Conv2d(                      # 输入的图片 （3，32，32）\n",
    "                in_channels=3,\n",
    "                out_channels=16,            # 经过一个卷积层之后 （16, 32, 32）\n",
    "                kernel_size=3,\n",
    "                stride=1,                    # 如果想要 con2d 出来的图片长宽没有变化, padding=(kernel_size-1)/2 当 stride=1 \n",
    "                padding=1\n",
    "            ),\n",
    "            nn.ReLU(),\n",
    "            nn.MaxPool2d(kernel_size=2)      # 经过池化层处理，维度为（16, 16, 16）\n",
    "        )\n",
    "        self.conv2 = nn.Sequential(\n",
    "            nn.Conv2d(                         # 输入（16, 16, 16）\n",
    "                in_channels=16,\n",
    "                out_channels=32,\n",
    "                kernel_size=3,\n",
    "                stride=1,\n",
    "                padding=1\n",
    "            ),                                 # 输出（32,16,16）\n",
    "            nn.ReLU(),\n",
    "            nn.MaxPool2d(kernel_size=2)        # 输出（32,8,8）\n",
    "        )\n",
    "        self.out = nn.Linear(32*8*8,10)\n",
    "\n",
    "    def forward(self, x):\n",
    "        x = self.conv1(x)                     #（batch_size,16, 16, 16）\n",
    "        x = self.conv2(x)                     # 输出（batch_size,32, 8, 8）\n",
    "        x = x.view(x.size(0),-1)              # (batch_size,32*8*8)\n",
    "        out = self.out(x)                     # (batch_size,10)\n",
    "        return out\n",
    "\n",
    "# 定义训练函数\n",
    "def train_model(model, train_loader, val_loader, criterion, optimizer, num_epochs=10):\n",
    "    for epoch in range(num_epochs):\n",
    "        model.train()  # 设置模型为训练模式\n",
    "        running_loss = 0.0\n",
    "        for inputs, labels in train_loader:\n",
    "            optimizer.zero_grad()  # 梯度清零\n",
    "            outputs = model(inputs)  # 前向传播\n",
    "            loss = criterion(outputs, labels)  # 计算损失\n",
    "            loss.backward()  # 反向传播\n",
    "            optimizer.step()  # 参数更新\n",
    "            running_loss += loss.item()\n",
    "\n",
    "        # 打印每个epoch的训练损失\n",
    "        print(f\"Epoch {epoch+1}, Train Loss: {running_loss/len(train_loader)}\")\n",
    "\n",
    "        # 在验证集上评估模型\n",
    "        model.eval()  # 设置模型为评估模式\n",
    "        val_loss = 0.0\n",
    "        correct = 0\n",
    "        total = 0\n",
    "        with torch.no_grad():  # 不计算梯度\n",
    "            for inputs, labels in val_loader:\n",
    "                outputs = model(inputs)\n",
    "                loss = criterion(outputs, labels)\n",
    "                val_loss += loss.item()\n",
    "                _, predicted = torch.max(outputs, 1)\n",
    "                total += labels.size(0)\n",
    "                correct += (predicted == labels).sum().item()\n",
    "\n",
    "        # 打印每个epoch的验证损失和准确率\n",
    "        print(f\"Epoch {epoch+1}, Validation Loss: {val_loss/len(val_loader)}, Validation Accuracy: {(correct/total)*100:.2f}%\")\n"
   ]
  },
  {
   "cell_type": "code",
   "execution_count": null,
   "metadata": {},
   "outputs": [
    {
     "name": "stdout",
     "output_type": "stream",
     "text": [
      "Dataloaders: (<torch.utils.data.dataloader.DataLoader object at 0x000001914E3B8E90>, <torch.utils.data.dataloader.DataLoader object at 0x000001914E3BB3D0>)\n",
      "Length of 训练集: 1250, batches of 32\n",
      "Length of 验证集: 313, batches of 32\n",
      "Length of 测试集: 313, batches of 32\n"
     ]
    }
   ],
   "source": [
    "from torch.utils.data import DataLoader, random_split\n",
    "\n",
    "# 设置批处理大小超参数\n",
    "BATCH_SIZE = 64\n",
    "\n",
    "# 定义数据加载器\n",
    "train_loader = DataLoader(train_dataset, batch_size=BATCH_SIZE, shuffle=True, num_workers=2)\n",
    "val_loader = DataLoader(val_dataset, batch_size=BATCH_SIZE, shuffle=False, num_workers=2)\n",
    "test_loader = DataLoader(test_dataset, batch_size=BATCH_SIZE, shuffle=False, num_workers=2)\n",
    "\n",
    "#打印结果\n",
    "print(f\"Dataloaders: {train_loader, test_loader}\")\n",
    "print(f\"Length of 训练集: {len(train_loader)}, batches of {BATCH_SIZE}\")\n",
    "print(f\"Length of 验证集: {len(val_loader)}, batches of {BATCH_SIZE}\")\n",
    "print(f\"Length of 测试集: {len(test_loader)}, batches of {BATCH_SIZE}\")\n"
   ]
  },
  {
   "cell_type": "code",
   "execution_count": 33,
   "metadata": {},
   "outputs": [
    {
     "name": "stdout",
     "output_type": "stream",
     "text": [
      "Epoch 1, Train Loss: 1.444128996038437\n",
      "Epoch 1, Validation Loss: 1.2137799242053169, Validation Accuracy: 57.53%\n",
      "Epoch 2, Train Loss: 1.1266274201393127\n",
      "Epoch 2, Validation Loss: 1.1055989440637655, Validation Accuracy: 61.28%\n",
      "Epoch 3, Train Loss: 0.9935547696590423\n",
      "Epoch 3, Validation Loss: 1.0335300147723847, Validation Accuracy: 64.15%\n",
      "Epoch 4, Train Loss: 0.9106990650892258\n",
      "Epoch 4, Validation Loss: 0.9893212487903266, Validation Accuracy: 65.68%\n",
      "Epoch 5, Train Loss: 0.8557869970798493\n",
      "Epoch 5, Validation Loss: 1.0021116975397348, Validation Accuracy: 64.77%\n",
      "Epoch 6, Train Loss: 0.8127492791414261\n",
      "Epoch 6, Validation Loss: 0.9747418660325364, Validation Accuracy: 66.42%\n",
      "Epoch 7, Train Loss: 0.7771867443323135\n",
      "Epoch 7, Validation Loss: 0.9767935891120959, Validation Accuracy: 66.82%\n",
      "Epoch 8, Train Loss: 0.74587426071167\n",
      "Epoch 8, Validation Loss: 0.9469411765424588, Validation Accuracy: 67.85%\n",
      "Epoch 9, Train Loss: 0.7196789285182953\n",
      "Epoch 9, Validation Loss: 0.9514978758443278, Validation Accuracy: 67.94%\n",
      "Epoch 10, Train Loss: 0.6961006735086441\n",
      "Epoch 10, Validation Loss: 0.9460141658782959, Validation Accuracy: 68.62%\n"
     ]
    }
   ],
   "source": [
    "import torch.optim as optim\n",
    "\n",
    "# 创建模型实例\n",
    "model = CNN()\n",
    "\n",
    "# 定义损失函数和优化器\n",
    "criterion = nn.CrossEntropyLoss()\n",
    "optimizer = optim.Adam(model.parameters(), lr=0.001)\n",
    "\n",
    "# 训练模型\n",
    "train_model(model, train_loader, val_loader, criterion, optimizer, num_epochs=10)"
   ]
  },
  {
   "cell_type": "code",
   "execution_count": null,
   "metadata": {},
   "outputs": [],
   "source": [
    "# 测试集"
   ]
  }
 ],
 "metadata": {
  "kernelspec": {
   "display_name": "Python 3",
   "language": "python",
   "name": "python3"
  },
  "language_info": {
   "codemirror_mode": {
    "name": "ipython",
    "version": 3
   },
   "file_extension": ".py",
   "mimetype": "text/x-python",
   "name": "python",
   "nbconvert_exporter": "python",
   "pygments_lexer": "ipython3",
   "version": "3.11.4"
  }
 },
 "nbformat": 4,
 "nbformat_minor": 2
}
